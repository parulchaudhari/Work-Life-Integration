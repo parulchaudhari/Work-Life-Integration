{
 "cells": [
  {
   "cell_type": "markdown",
   "metadata": {},
   "source": [
    "# Settings"
   ]
  },
  {
   "cell_type": "code",
   "execution_count": 563,
   "metadata": {},
   "outputs": [],
   "source": [
    "import pandas as pd\n",
    "import numpy as np\n",
    "\n",
    "import warnings \n",
    "warnings.filterwarnings('ignore')"
   ]
  },
  {
   "cell_type": "code",
   "execution_count": 564,
   "metadata": {},
   "outputs": [
    {
     "data": {
      "text/plain": [
       "((22750, 12), (12250, 11))"
      ]
     },
     "execution_count": 564,
     "metadata": {},
     "output_type": "execute_result"
    }
   ],
   "source": [
    "train = pd.read_csv('train.csv')\n",
    "test = pd.read_csv('test.csv')\n",
    "train.shape, test.shape"
   ]
  },
  {
   "cell_type": "code",
   "execution_count": 565,
   "metadata": {},
   "outputs": [
    {
     "data": {
      "text/html": [
       "<div>\n",
       "<style scoped>\n",
       "    .dataframe tbody tr th:only-of-type {\n",
       "        vertical-align: middle;\n",
       "    }\n",
       "\n",
       "    .dataframe tbody tr th {\n",
       "        vertical-align: top;\n",
       "    }\n",
       "\n",
       "    .dataframe thead th {\n",
       "        text-align: right;\n",
       "    }\n",
       "</style>\n",
       "<table border=\"1\" class=\"dataframe\">\n",
       "  <thead>\n",
       "    <tr style=\"text-align: right;\">\n",
       "      <th></th>\n",
       "      <th>Employee ID</th>\n",
       "      <th>Date of Joining</th>\n",
       "      <th>Gender</th>\n",
       "      <th>Company Type</th>\n",
       "      <th>WFH Setup Available</th>\n",
       "      <th>Age</th>\n",
       "      <th>Tenure</th>\n",
       "      <th>Vacations taken</th>\n",
       "      <th>Designation</th>\n",
       "      <th>Average Hours worked per day</th>\n",
       "      <th>Employee satisfaction score</th>\n",
       "      <th>Mental Fatigue Score</th>\n",
       "    </tr>\n",
       "  </thead>\n",
       "  <tbody>\n",
       "    <tr>\n",
       "      <td>0</td>\n",
       "      <td>fffe32003000360033003200</td>\n",
       "      <td>2008-09-30</td>\n",
       "      <td>Female</td>\n",
       "      <td>Service</td>\n",
       "      <td>No</td>\n",
       "      <td>52</td>\n",
       "      <td>18</td>\n",
       "      <td>8</td>\n",
       "      <td>2</td>\n",
       "      <td>3.0</td>\n",
       "      <td>3.8</td>\n",
       "      <td>0.16</td>\n",
       "    </tr>\n",
       "    <tr>\n",
       "      <td>1</td>\n",
       "      <td>fffe3700360033003500</td>\n",
       "      <td>2008-11-30</td>\n",
       "      <td>Male</td>\n",
       "      <td>Service</td>\n",
       "      <td>Yes</td>\n",
       "      <td>26</td>\n",
       "      <td>12</td>\n",
       "      <td>4</td>\n",
       "      <td>1</td>\n",
       "      <td>2.0</td>\n",
       "      <td>5.0</td>\n",
       "      <td>0.36</td>\n",
       "    </tr>\n",
       "    <tr>\n",
       "      <td>2</td>\n",
       "      <td>fffe31003300320037003900</td>\n",
       "      <td>2008-03-10</td>\n",
       "      <td>Female</td>\n",
       "      <td>Product</td>\n",
       "      <td>Yes</td>\n",
       "      <td>63</td>\n",
       "      <td>20</td>\n",
       "      <td>4</td>\n",
       "      <td>2</td>\n",
       "      <td>NaN</td>\n",
       "      <td>5.8</td>\n",
       "      <td>0.49</td>\n",
       "    </tr>\n",
       "    <tr>\n",
       "      <td>3</td>\n",
       "      <td>fffe32003400380032003900</td>\n",
       "      <td>2008-11-03</td>\n",
       "      <td>Male</td>\n",
       "      <td>Service</td>\n",
       "      <td>Yes</td>\n",
       "      <td>59</td>\n",
       "      <td>20</td>\n",
       "      <td>12</td>\n",
       "      <td>1</td>\n",
       "      <td>1.0</td>\n",
       "      <td>2.6</td>\n",
       "      <td>0.20</td>\n",
       "    </tr>\n",
       "    <tr>\n",
       "      <td>4</td>\n",
       "      <td>fffe31003900340031003600</td>\n",
       "      <td>2008-07-24</td>\n",
       "      <td>Female</td>\n",
       "      <td>Service</td>\n",
       "      <td>No</td>\n",
       "      <td>63</td>\n",
       "      <td>10</td>\n",
       "      <td>9</td>\n",
       "      <td>3</td>\n",
       "      <td>7.0</td>\n",
       "      <td>6.9</td>\n",
       "      <td>0.52</td>\n",
       "    </tr>\n",
       "  </tbody>\n",
       "</table>\n",
       "</div>"
      ],
      "text/plain": [
       "                Employee ID Date of Joining  Gender Company Type  \\\n",
       "0  fffe32003000360033003200      2008-09-30  Female      Service   \n",
       "1      fffe3700360033003500      2008-11-30    Male      Service   \n",
       "2  fffe31003300320037003900      2008-03-10  Female      Product   \n",
       "3  fffe32003400380032003900      2008-11-03    Male      Service   \n",
       "4  fffe31003900340031003600      2008-07-24  Female      Service   \n",
       "\n",
       "  WFH Setup Available  Age  Tenure  Vacations taken  Designation  \\\n",
       "0                  No   52      18                8            2   \n",
       "1                 Yes   26      12                4            1   \n",
       "2                 Yes   63      20                4            2   \n",
       "3                 Yes   59      20               12            1   \n",
       "4                  No   63      10                9            3   \n",
       "\n",
       "   Average Hours worked per day  Employee satisfaction score  \\\n",
       "0                           3.0                          3.8   \n",
       "1                           2.0                          5.0   \n",
       "2                           NaN                          5.8   \n",
       "3                           1.0                          2.6   \n",
       "4                           7.0                          6.9   \n",
       "\n",
       "   Mental Fatigue Score  \n",
       "0                  0.16  \n",
       "1                  0.36  \n",
       "2                  0.49  \n",
       "3                  0.20  \n",
       "4                  0.52  "
      ]
     },
     "execution_count": 565,
     "metadata": {},
     "output_type": "execute_result"
    }
   ],
   "source": [
    "train.head()"
   ]
  },
  {
   "cell_type": "markdown",
   "metadata": {},
   "source": [
    "# Data Cleaning and EDA"
   ]
  },
  {
   "cell_type": "code",
   "execution_count": 566,
   "metadata": {},
   "outputs": [
    {
     "data": {
      "text/plain": [
       "Employee ID                     0.000000\n",
       "Date of Joining                 0.000000\n",
       "Gender                          0.000000\n",
       "Company Type                    0.000000\n",
       "WFH Setup Available             0.000000\n",
       "Age                             0.000000\n",
       "Tenure                          0.000000\n",
       "Vacations taken                 0.000000\n",
       "Designation                     0.000000\n",
       "Average Hours worked per day    0.060703\n",
       "Employee satisfaction score     0.093055\n",
       "Mental Fatigue Score            0.044440\n",
       "dtype: float64"
      ]
     },
     "execution_count": 566,
     "metadata": {},
     "output_type": "execute_result"
    }
   ],
   "source": [
    "train.isnull().sum()/len(train.index)  #checking null values "
   ]
  },
  {
   "cell_type": "code",
   "execution_count": 567,
   "metadata": {},
   "outputs": [
    {
     "data": {
      "text/plain": [
       "Employee ID                     0.0\n",
       "Date of Joining                 0.0\n",
       "Gender                          0.0\n",
       "Company Type                    0.0\n",
       "WFH Setup Available             0.0\n",
       "Age                             0.0\n",
       "Tenure                          0.0\n",
       "Vacations taken                 0.0\n",
       "Designation                     0.0\n",
       "Average Hours worked per day    0.0\n",
       "Employee satisfaction score     0.0\n",
       "Mental Fatigue Score            0.0\n",
       "dtype: float64"
      ]
     },
     "execution_count": 567,
     "metadata": {},
     "output_type": "execute_result"
    }
   ],
   "source": [
    "#as null values are less than 10% of the whole dataset, we can remove these\n",
    "train = train.dropna()\n",
    "train.isnull().sum()/len(train.index)"
   ]
  },
  {
   "cell_type": "code",
   "execution_count": 568,
   "metadata": {},
   "outputs": [
    {
     "data": {
      "text/plain": [
       "(18670, 12)"
      ]
     },
     "execution_count": 568,
     "metadata": {},
     "output_type": "execute_result"
    }
   ],
   "source": [
    "train.shape"
   ]
  },
  {
   "cell_type": "code",
   "execution_count": 569,
   "metadata": {},
   "outputs": [
    {
     "data": {
      "text/html": [
       "<div>\n",
       "<style scoped>\n",
       "    .dataframe tbody tr th:only-of-type {\n",
       "        vertical-align: middle;\n",
       "    }\n",
       "\n",
       "    .dataframe tbody tr th {\n",
       "        vertical-align: top;\n",
       "    }\n",
       "\n",
       "    .dataframe thead th {\n",
       "        text-align: right;\n",
       "    }\n",
       "</style>\n",
       "<table border=\"1\" class=\"dataframe\">\n",
       "  <thead>\n",
       "    <tr style=\"text-align: right;\">\n",
       "      <th></th>\n",
       "      <th>Employee ID</th>\n",
       "      <th>Date of Joining</th>\n",
       "      <th>Gender</th>\n",
       "      <th>Company Type</th>\n",
       "      <th>WFH Setup Available</th>\n",
       "      <th>Age</th>\n",
       "      <th>Tenure</th>\n",
       "      <th>Vacations taken</th>\n",
       "      <th>Designation</th>\n",
       "      <th>Average Hours worked per day</th>\n",
       "      <th>Employee satisfaction score</th>\n",
       "    </tr>\n",
       "  </thead>\n",
       "  <tbody>\n",
       "    <tr>\n",
       "      <td>0</td>\n",
       "      <td>fffe31003300390039003000</td>\n",
       "      <td>2008-12-10</td>\n",
       "      <td>Female</td>\n",
       "      <td>Service</td>\n",
       "      <td>No</td>\n",
       "      <td>39</td>\n",
       "      <td>14</td>\n",
       "      <td>4</td>\n",
       "      <td>2</td>\n",
       "      <td>5</td>\n",
       "      <td>7.7</td>\n",
       "    </tr>\n",
       "    <tr>\n",
       "      <td>1</td>\n",
       "      <td>fffe31003300310037003800</td>\n",
       "      <td>2008-08-14</td>\n",
       "      <td>Female</td>\n",
       "      <td>Product</td>\n",
       "      <td>Yes</td>\n",
       "      <td>51</td>\n",
       "      <td>9</td>\n",
       "      <td>4</td>\n",
       "      <td>1</td>\n",
       "      <td>2</td>\n",
       "      <td>5.2</td>\n",
       "    </tr>\n",
       "    <tr>\n",
       "      <td>2</td>\n",
       "      <td>fffe33003400380035003900</td>\n",
       "      <td>2008-11-13</td>\n",
       "      <td>Male</td>\n",
       "      <td>Product</td>\n",
       "      <td>Yes</td>\n",
       "      <td>30</td>\n",
       "      <td>5</td>\n",
       "      <td>8</td>\n",
       "      <td>1</td>\n",
       "      <td>3</td>\n",
       "      <td>5.9</td>\n",
       "    </tr>\n",
       "    <tr>\n",
       "      <td>3</td>\n",
       "      <td>fffe3100370039003200</td>\n",
       "      <td>2008-02-07</td>\n",
       "      <td>Female</td>\n",
       "      <td>Service</td>\n",
       "      <td>No</td>\n",
       "      <td>22</td>\n",
       "      <td>5</td>\n",
       "      <td>6</td>\n",
       "      <td>3</td>\n",
       "      <td>6</td>\n",
       "      <td>4.6</td>\n",
       "    </tr>\n",
       "    <tr>\n",
       "      <td>4</td>\n",
       "      <td>fffe32003600390036003700</td>\n",
       "      <td>2008-07-17</td>\n",
       "      <td>Female</td>\n",
       "      <td>Product</td>\n",
       "      <td>No</td>\n",
       "      <td>62</td>\n",
       "      <td>10</td>\n",
       "      <td>3</td>\n",
       "      <td>2</td>\n",
       "      <td>5</td>\n",
       "      <td>6.4</td>\n",
       "    </tr>\n",
       "  </tbody>\n",
       "</table>\n",
       "</div>"
      ],
      "text/plain": [
       "                Employee ID Date of Joining  Gender Company Type  \\\n",
       "0  fffe31003300390039003000      2008-12-10  Female      Service   \n",
       "1  fffe31003300310037003800      2008-08-14  Female      Product   \n",
       "2  fffe33003400380035003900      2008-11-13    Male      Product   \n",
       "3      fffe3100370039003200      2008-02-07  Female      Service   \n",
       "4  fffe32003600390036003700      2008-07-17  Female      Product   \n",
       "\n",
       "  WFH Setup Available  Age  Tenure  Vacations taken  Designation  \\\n",
       "0                  No   39      14                4            2   \n",
       "1                 Yes   51       9                4            1   \n",
       "2                 Yes   30       5                8            1   \n",
       "3                  No   22       5                6            3   \n",
       "4                  No   62      10                3            2   \n",
       "\n",
       "   Average Hours worked per day  Employee satisfaction score  \n",
       "0                             5                          7.7  \n",
       "1                             2                          5.2  \n",
       "2                             3                          5.9  \n",
       "3                             6                          4.6  \n",
       "4                             5                          6.4  "
      ]
     },
     "execution_count": 569,
     "metadata": {},
     "output_type": "execute_result"
    }
   ],
   "source": [
    "test.head()"
   ]
  },
  {
   "cell_type": "code",
   "execution_count": 570,
   "metadata": {},
   "outputs": [
    {
     "name": "stdout",
     "output_type": "stream",
     "text": [
      "<class 'pandas.core.frame.DataFrame'>\n",
      "Int64Index: 18670 entries, 0 to 22749\n",
      "Data columns (total 12 columns):\n",
      "Employee ID                     18670 non-null object\n",
      "Date of Joining                 18670 non-null object\n",
      "Gender                          18670 non-null object\n",
      "Company Type                    18670 non-null object\n",
      "WFH Setup Available             18670 non-null object\n",
      "Age                             18670 non-null int64\n",
      "Tenure                          18670 non-null int64\n",
      "Vacations taken                 18670 non-null int64\n",
      "Designation                     18670 non-null int64\n",
      "Average Hours worked per day    18670 non-null float64\n",
      "Employee satisfaction score     18670 non-null float64\n",
      "Mental Fatigue Score            18670 non-null float64\n",
      "dtypes: float64(3), int64(4), object(5)\n",
      "memory usage: 1.9+ MB\n"
     ]
    }
   ],
   "source": [
    "train.info()"
   ]
  },
  {
   "cell_type": "code",
   "execution_count": 571,
   "metadata": {},
   "outputs": [],
   "source": [
    "#train['ID'] = train['Employee ID'].apply(lambda x:x.strip('fffe'))\n",
    "#test['ID'] = test['Employee ID'].apply(lambda x:x.strip('fffe'))"
   ]
  },
  {
   "cell_type": "code",
   "execution_count": 572,
   "metadata": {},
   "outputs": [
    {
     "data": {
      "text/html": [
       "<div>\n",
       "<style scoped>\n",
       "    .dataframe tbody tr th:only-of-type {\n",
       "        vertical-align: middle;\n",
       "    }\n",
       "\n",
       "    .dataframe tbody tr th {\n",
       "        vertical-align: top;\n",
       "    }\n",
       "\n",
       "    .dataframe thead th {\n",
       "        text-align: right;\n",
       "    }\n",
       "</style>\n",
       "<table border=\"1\" class=\"dataframe\">\n",
       "  <thead>\n",
       "    <tr style=\"text-align: right;\">\n",
       "      <th></th>\n",
       "      <th>Employee ID</th>\n",
       "      <th>Date of Joining</th>\n",
       "      <th>Gender</th>\n",
       "      <th>Company Type</th>\n",
       "      <th>WFH Setup Available</th>\n",
       "      <th>Age</th>\n",
       "      <th>Tenure</th>\n",
       "      <th>Vacations taken</th>\n",
       "      <th>Designation</th>\n",
       "      <th>Average Hours worked per day</th>\n",
       "      <th>Employee satisfaction score</th>\n",
       "      <th>Mental Fatigue Score</th>\n",
       "    </tr>\n",
       "  </thead>\n",
       "  <tbody>\n",
       "    <tr>\n",
       "      <td>0</td>\n",
       "      <td>fffe32003000360033003200</td>\n",
       "      <td>2008-09-30</td>\n",
       "      <td>Female</td>\n",
       "      <td>Service</td>\n",
       "      <td>No</td>\n",
       "      <td>52</td>\n",
       "      <td>18</td>\n",
       "      <td>8</td>\n",
       "      <td>2</td>\n",
       "      <td>3.0</td>\n",
       "      <td>3.8</td>\n",
       "      <td>0.16</td>\n",
       "    </tr>\n",
       "    <tr>\n",
       "      <td>1</td>\n",
       "      <td>fffe3700360033003500</td>\n",
       "      <td>2008-11-30</td>\n",
       "      <td>Male</td>\n",
       "      <td>Service</td>\n",
       "      <td>Yes</td>\n",
       "      <td>26</td>\n",
       "      <td>12</td>\n",
       "      <td>4</td>\n",
       "      <td>1</td>\n",
       "      <td>2.0</td>\n",
       "      <td>5.0</td>\n",
       "      <td>0.36</td>\n",
       "    </tr>\n",
       "  </tbody>\n",
       "</table>\n",
       "</div>"
      ],
      "text/plain": [
       "                Employee ID Date of Joining  Gender Company Type  \\\n",
       "0  fffe32003000360033003200      2008-09-30  Female      Service   \n",
       "1      fffe3700360033003500      2008-11-30    Male      Service   \n",
       "\n",
       "  WFH Setup Available  Age  Tenure  Vacations taken  Designation  \\\n",
       "0                  No   52      18                8            2   \n",
       "1                 Yes   26      12                4            1   \n",
       "\n",
       "   Average Hours worked per day  Employee satisfaction score  \\\n",
       "0                           3.0                          3.8   \n",
       "1                           2.0                          5.0   \n",
       "\n",
       "   Mental Fatigue Score  \n",
       "0                  0.16  \n",
       "1                  0.36  "
      ]
     },
     "execution_count": 572,
     "metadata": {},
     "output_type": "execute_result"
    }
   ],
   "source": [
    "train.head(2)"
   ]
  },
  {
   "cell_type": "code",
   "execution_count": 573,
   "metadata": {},
   "outputs": [
    {
     "name": "stdout",
     "output_type": "stream",
     "text": [
      "Unique values for Employee ID 18670\n",
      "Unique values for Date of Joining 366\n",
      "Unique values for Gender 2\n",
      "Unique values for Company Type 2\n",
      "Unique values for WFH Setup Available 2\n",
      "Unique values for Age 45\n",
      "Unique values for Tenure 20\n",
      "Unique values for Vacations taken 13\n",
      "Unique values for Designation 6\n",
      "Unique values for Average Hours worked per day 10\n",
      "Unique values for Employee satisfaction score 101\n",
      "Unique values for Mental Fatigue Score 101\n"
     ]
    }
   ],
   "source": [
    "for feature in train.columns:\n",
    "    print(\"Unique values for\",feature,len(train[feature].unique()))"
   ]
  },
  {
   "cell_type": "code",
   "execution_count": 574,
   "metadata": {},
   "outputs": [
    {
     "name": "stdout",
     "output_type": "stream",
     "text": [
      "Unique values for Employee ID 18670\n",
      "Unique values for Date of Joining 366\n",
      "Unique values for Gender 2\n",
      "Unique values for Company Type 2\n",
      "Unique values for WFH Setup Available 2\n",
      "Unique values for Age 45\n",
      "Unique values for Tenure 20\n",
      "Unique values for Vacations taken 13\n",
      "Unique values for Designation 6\n",
      "Unique values for Average Hours worked per day 10\n",
      "Unique values for Employee satisfaction score 101\n"
     ]
    }
   ],
   "source": [
    "for feature in test.columns:\n",
    "    print(\"Unique values for\",feature,len(train[feature].unique()))"
   ]
  },
  {
   "cell_type": "code",
   "execution_count": 575,
   "metadata": {},
   "outputs": [
    {
     "name": "stdout",
     "output_type": "stream",
     "text": [
      "(18670, 13)\n",
      "(18670, 14)\n",
      "(18670, 15)\n",
      "(18670, 20)\n"
     ]
    }
   ],
   "source": [
    "#dummy variables for catg variables\n",
    "Gen = pd.get_dummies(train['Gender'],drop_first=True)\n",
    "train = pd.concat([train, Gen], axis = 1)\n",
    "print(train.shape)\n",
    "\n",
    "Cy = pd.get_dummies(train['Company Type'],drop_first=True)\n",
    "train = pd.concat([train, Cy], axis = 1)\n",
    "print(train.shape)\n",
    "\n",
    "wfh = pd.get_dummies(train['WFH Setup Available'],drop_first=True)\n",
    "train = pd.concat([train, wfh], axis = 1)\n",
    "print(train.shape) \n",
    "\n",
    "desig = pd.get_dummies(train['Designation'],drop_first=True)\n",
    "train = pd.concat([train, desig], axis = 1)\n",
    "print(train.shape) "
   ]
  },
  {
   "cell_type": "code",
   "execution_count": 576,
   "metadata": {},
   "outputs": [
    {
     "data": {
      "text/html": [
       "<div>\n",
       "<style scoped>\n",
       "    .dataframe tbody tr th:only-of-type {\n",
       "        vertical-align: middle;\n",
       "    }\n",
       "\n",
       "    .dataframe tbody tr th {\n",
       "        vertical-align: top;\n",
       "    }\n",
       "\n",
       "    .dataframe thead th {\n",
       "        text-align: right;\n",
       "    }\n",
       "</style>\n",
       "<table border=\"1\" class=\"dataframe\">\n",
       "  <thead>\n",
       "    <tr style=\"text-align: right;\">\n",
       "      <th></th>\n",
       "      <th>Employee ID</th>\n",
       "      <th>Date of Joining</th>\n",
       "      <th>Gender</th>\n",
       "      <th>Company Type</th>\n",
       "      <th>WFH Setup Available</th>\n",
       "      <th>Age</th>\n",
       "      <th>Tenure</th>\n",
       "      <th>Vacations taken</th>\n",
       "      <th>Designation</th>\n",
       "      <th>Average Hours worked per day</th>\n",
       "      <th>Employee satisfaction score</th>\n",
       "      <th>Mental Fatigue Score</th>\n",
       "      <th>Male</th>\n",
       "      <th>Service</th>\n",
       "      <th>Yes</th>\n",
       "      <th>1</th>\n",
       "      <th>2</th>\n",
       "      <th>3</th>\n",
       "      <th>4</th>\n",
       "      <th>5</th>\n",
       "    </tr>\n",
       "  </thead>\n",
       "  <tbody>\n",
       "    <tr>\n",
       "      <td>0</td>\n",
       "      <td>fffe32003000360033003200</td>\n",
       "      <td>2008-09-30</td>\n",
       "      <td>Female</td>\n",
       "      <td>Service</td>\n",
       "      <td>No</td>\n",
       "      <td>52</td>\n",
       "      <td>18</td>\n",
       "      <td>8</td>\n",
       "      <td>2</td>\n",
       "      <td>3.0</td>\n",
       "      <td>3.8</td>\n",
       "      <td>0.16</td>\n",
       "      <td>0</td>\n",
       "      <td>1</td>\n",
       "      <td>0</td>\n",
       "      <td>0</td>\n",
       "      <td>1</td>\n",
       "      <td>0</td>\n",
       "      <td>0</td>\n",
       "      <td>0</td>\n",
       "    </tr>\n",
       "    <tr>\n",
       "      <td>1</td>\n",
       "      <td>fffe3700360033003500</td>\n",
       "      <td>2008-11-30</td>\n",
       "      <td>Male</td>\n",
       "      <td>Service</td>\n",
       "      <td>Yes</td>\n",
       "      <td>26</td>\n",
       "      <td>12</td>\n",
       "      <td>4</td>\n",
       "      <td>1</td>\n",
       "      <td>2.0</td>\n",
       "      <td>5.0</td>\n",
       "      <td>0.36</td>\n",
       "      <td>1</td>\n",
       "      <td>1</td>\n",
       "      <td>1</td>\n",
       "      <td>1</td>\n",
       "      <td>0</td>\n",
       "      <td>0</td>\n",
       "      <td>0</td>\n",
       "      <td>0</td>\n",
       "    </tr>\n",
       "    <tr>\n",
       "      <td>3</td>\n",
       "      <td>fffe32003400380032003900</td>\n",
       "      <td>2008-11-03</td>\n",
       "      <td>Male</td>\n",
       "      <td>Service</td>\n",
       "      <td>Yes</td>\n",
       "      <td>59</td>\n",
       "      <td>20</td>\n",
       "      <td>12</td>\n",
       "      <td>1</td>\n",
       "      <td>1.0</td>\n",
       "      <td>2.6</td>\n",
       "      <td>0.20</td>\n",
       "      <td>1</td>\n",
       "      <td>1</td>\n",
       "      <td>1</td>\n",
       "      <td>1</td>\n",
       "      <td>0</td>\n",
       "      <td>0</td>\n",
       "      <td>0</td>\n",
       "      <td>0</td>\n",
       "    </tr>\n",
       "    <tr>\n",
       "      <td>4</td>\n",
       "      <td>fffe31003900340031003600</td>\n",
       "      <td>2008-07-24</td>\n",
       "      <td>Female</td>\n",
       "      <td>Service</td>\n",
       "      <td>No</td>\n",
       "      <td>63</td>\n",
       "      <td>10</td>\n",
       "      <td>9</td>\n",
       "      <td>3</td>\n",
       "      <td>7.0</td>\n",
       "      <td>6.9</td>\n",
       "      <td>0.52</td>\n",
       "      <td>0</td>\n",
       "      <td>1</td>\n",
       "      <td>0</td>\n",
       "      <td>0</td>\n",
       "      <td>0</td>\n",
       "      <td>1</td>\n",
       "      <td>0</td>\n",
       "      <td>0</td>\n",
       "    </tr>\n",
       "    <tr>\n",
       "      <td>5</td>\n",
       "      <td>fffe3300350037003500</td>\n",
       "      <td>2008-11-26</td>\n",
       "      <td>Male</td>\n",
       "      <td>Product</td>\n",
       "      <td>Yes</td>\n",
       "      <td>44</td>\n",
       "      <td>8</td>\n",
       "      <td>10</td>\n",
       "      <td>2</td>\n",
       "      <td>4.0</td>\n",
       "      <td>3.6</td>\n",
       "      <td>0.29</td>\n",
       "      <td>1</td>\n",
       "      <td>0</td>\n",
       "      <td>1</td>\n",
       "      <td>0</td>\n",
       "      <td>1</td>\n",
       "      <td>0</td>\n",
       "      <td>0</td>\n",
       "      <td>0</td>\n",
       "    </tr>\n",
       "  </tbody>\n",
       "</table>\n",
       "</div>"
      ],
      "text/plain": [
       "                Employee ID Date of Joining  Gender Company Type  \\\n",
       "0  fffe32003000360033003200      2008-09-30  Female      Service   \n",
       "1      fffe3700360033003500      2008-11-30    Male      Service   \n",
       "3  fffe32003400380032003900      2008-11-03    Male      Service   \n",
       "4  fffe31003900340031003600      2008-07-24  Female      Service   \n",
       "5      fffe3300350037003500      2008-11-26    Male      Product   \n",
       "\n",
       "  WFH Setup Available  Age  Tenure  Vacations taken  Designation  \\\n",
       "0                  No   52      18                8            2   \n",
       "1                 Yes   26      12                4            1   \n",
       "3                 Yes   59      20               12            1   \n",
       "4                  No   63      10                9            3   \n",
       "5                 Yes   44       8               10            2   \n",
       "\n",
       "   Average Hours worked per day  Employee satisfaction score  \\\n",
       "0                           3.0                          3.8   \n",
       "1                           2.0                          5.0   \n",
       "3                           1.0                          2.6   \n",
       "4                           7.0                          6.9   \n",
       "5                           4.0                          3.6   \n",
       "\n",
       "   Mental Fatigue Score  Male  Service  Yes  1  2  3  4  5  \n",
       "0                  0.16     0        1    0  0  1  0  0  0  \n",
       "1                  0.36     1        1    1  1  0  0  0  0  \n",
       "3                  0.20     1        1    1  1  0  0  0  0  \n",
       "4                  0.52     0        1    0  0  0  1  0  0  \n",
       "5                  0.29     1        0    1  0  1  0  0  0  "
      ]
     },
     "execution_count": 576,
     "metadata": {},
     "output_type": "execute_result"
    }
   ],
   "source": [
    "train.head()"
   ]
  },
  {
   "cell_type": "code",
   "execution_count": 577,
   "metadata": {},
   "outputs": [
    {
     "name": "stdout",
     "output_type": "stream",
     "text": [
      "(12250, 12)\n",
      "(12250, 13)\n",
      "(12250, 14)\n",
      "(12250, 19)\n"
     ]
    }
   ],
   "source": [
    "#dummy variables for catg variables\n",
    "Gen = pd.get_dummies(test['Gender'],drop_first=True)\n",
    "test = pd.concat([test, Gen], axis = 1)\n",
    "print(test.shape)\n",
    "\n",
    "Cy = pd.get_dummies(test['Company Type'],drop_first=True)\n",
    "test = pd.concat([test, Cy], axis = 1)\n",
    "print(test.shape)\n",
    "\n",
    "wfh = pd.get_dummies(test['WFH Setup Available'],drop_first=True)\n",
    "test = pd.concat([test, wfh], axis = 1)\n",
    "print(test.shape) \n",
    "\n",
    "desig = pd.get_dummies(test['Designation'],drop_first=True)\n",
    "test = pd.concat([test, desig], axis = 1)\n",
    "print(test.shape) "
   ]
  },
  {
   "cell_type": "code",
   "execution_count": 578,
   "metadata": {},
   "outputs": [
    {
     "name": "stdout",
     "output_type": "stream",
     "text": [
      "<class 'pandas.core.frame.DataFrame'>\n",
      "RangeIndex: 12250 entries, 0 to 12249\n",
      "Data columns (total 21 columns):\n",
      "Employee ID                     12250 non-null object\n",
      "Date of Joining                 12250 non-null datetime64[ns]\n",
      "Gender                          12250 non-null object\n",
      "Company Type                    12250 non-null object\n",
      "WFH Setup Available             12250 non-null object\n",
      "Age                             12250 non-null int64\n",
      "Tenure                          12250 non-null int64\n",
      "Vacations taken                 12250 non-null int64\n",
      "Designation                     12250 non-null int64\n",
      "Average Hours worked per day    12250 non-null int64\n",
      "Employee satisfaction score     12250 non-null float64\n",
      "Male                            12250 non-null uint8\n",
      "Service                         12250 non-null uint8\n",
      "Yes                             12250 non-null uint8\n",
      "1                               12250 non-null uint8\n",
      "2                               12250 non-null uint8\n",
      "3                               12250 non-null uint8\n",
      "4                               12250 non-null uint8\n",
      "5                               12250 non-null uint8\n",
      "DOJ Month                       12250 non-null int64\n",
      "DOJ Day                         12250 non-null int64\n",
      "dtypes: datetime64[ns](1), float64(1), int64(7), object(4), uint8(8)\n",
      "memory usage: 1.3+ MB\n"
     ]
    }
   ],
   "source": [
    "test['Date of Joining'] = pd.to_datetime(test['Date of Joining'])\n",
    "test[\"DOJ Month\"] = pd.DatetimeIndex(test['Date of Joining']).month\n",
    "test[\"DOJ Day\"] = pd.DatetimeIndex(test['Date of Joining']).day\n",
    "test.info()"
   ]
  },
  {
   "cell_type": "code",
   "execution_count": 579,
   "metadata": {},
   "outputs": [
    {
     "name": "stdout",
     "output_type": "stream",
     "text": [
      "<class 'pandas.core.frame.DataFrame'>\n",
      "Int64Index: 18670 entries, 0 to 22749\n",
      "Data columns (total 22 columns):\n",
      "Employee ID                     18670 non-null object\n",
      "Date of Joining                 18670 non-null datetime64[ns]\n",
      "Gender                          18670 non-null object\n",
      "Company Type                    18670 non-null object\n",
      "WFH Setup Available             18670 non-null object\n",
      "Age                             18670 non-null int64\n",
      "Tenure                          18670 non-null int64\n",
      "Vacations taken                 18670 non-null int64\n",
      "Designation                     18670 non-null int64\n",
      "Average Hours worked per day    18670 non-null float64\n",
      "Employee satisfaction score     18670 non-null float64\n",
      "Mental Fatigue Score            18670 non-null float64\n",
      "Male                            18670 non-null uint8\n",
      "Service                         18670 non-null uint8\n",
      "Yes                             18670 non-null uint8\n",
      "1                               18670 non-null uint8\n",
      "2                               18670 non-null uint8\n",
      "3                               18670 non-null uint8\n",
      "4                               18670 non-null uint8\n",
      "5                               18670 non-null uint8\n",
      "DOJ Month                       18670 non-null int64\n",
      "DOJ Day                         18670 non-null int64\n",
      "dtypes: datetime64[ns](1), float64(3), int64(6), object(4), uint8(8)\n",
      "memory usage: 2.3+ MB\n"
     ]
    }
   ],
   "source": [
    "train['Date of Joining'] = pd.to_datetime(train['Date of Joining'])\n",
    "#train[\"DOJ Year\"] = pd.DatetimeIndex(train['Date of Joining']).year\n",
    "train[\"DOJ Month\"] = pd.DatetimeIndex(train['Date of Joining']).month\n",
    "train[\"DOJ Day\"] = pd.DatetimeIndex(train['Date of Joining']).day\n",
    "train.info()"
   ]
  },
  {
   "cell_type": "code",
   "execution_count": 580,
   "metadata": {},
   "outputs": [
    {
     "data": {
      "text/html": [
       "<div>\n",
       "<style scoped>\n",
       "    .dataframe tbody tr th:only-of-type {\n",
       "        vertical-align: middle;\n",
       "    }\n",
       "\n",
       "    .dataframe tbody tr th {\n",
       "        vertical-align: top;\n",
       "    }\n",
       "\n",
       "    .dataframe thead th {\n",
       "        text-align: right;\n",
       "    }\n",
       "</style>\n",
       "<table border=\"1\" class=\"dataframe\">\n",
       "  <thead>\n",
       "    <tr style=\"text-align: right;\">\n",
       "      <th></th>\n",
       "      <th>Employee ID</th>\n",
       "      <th>Date of Joining</th>\n",
       "      <th>Gender</th>\n",
       "      <th>Company Type</th>\n",
       "      <th>WFH Setup Available</th>\n",
       "      <th>Age</th>\n",
       "      <th>Tenure</th>\n",
       "      <th>Vacations taken</th>\n",
       "      <th>Designation</th>\n",
       "      <th>Average Hours worked per day</th>\n",
       "      <th>...</th>\n",
       "      <th>Male</th>\n",
       "      <th>Service</th>\n",
       "      <th>Yes</th>\n",
       "      <th>1</th>\n",
       "      <th>2</th>\n",
       "      <th>3</th>\n",
       "      <th>4</th>\n",
       "      <th>5</th>\n",
       "      <th>DOJ Month</th>\n",
       "      <th>DOJ Day</th>\n",
       "    </tr>\n",
       "  </thead>\n",
       "  <tbody>\n",
       "    <tr>\n",
       "      <td>0</td>\n",
       "      <td>fffe32003000360033003200</td>\n",
       "      <td>2008-09-30</td>\n",
       "      <td>Female</td>\n",
       "      <td>Service</td>\n",
       "      <td>No</td>\n",
       "      <td>52</td>\n",
       "      <td>18</td>\n",
       "      <td>8</td>\n",
       "      <td>2</td>\n",
       "      <td>3.0</td>\n",
       "      <td>...</td>\n",
       "      <td>0</td>\n",
       "      <td>1</td>\n",
       "      <td>0</td>\n",
       "      <td>0</td>\n",
       "      <td>1</td>\n",
       "      <td>0</td>\n",
       "      <td>0</td>\n",
       "      <td>0</td>\n",
       "      <td>9</td>\n",
       "      <td>30</td>\n",
       "    </tr>\n",
       "    <tr>\n",
       "      <td>1</td>\n",
       "      <td>fffe3700360033003500</td>\n",
       "      <td>2008-11-30</td>\n",
       "      <td>Male</td>\n",
       "      <td>Service</td>\n",
       "      <td>Yes</td>\n",
       "      <td>26</td>\n",
       "      <td>12</td>\n",
       "      <td>4</td>\n",
       "      <td>1</td>\n",
       "      <td>2.0</td>\n",
       "      <td>...</td>\n",
       "      <td>1</td>\n",
       "      <td>1</td>\n",
       "      <td>1</td>\n",
       "      <td>1</td>\n",
       "      <td>0</td>\n",
       "      <td>0</td>\n",
       "      <td>0</td>\n",
       "      <td>0</td>\n",
       "      <td>11</td>\n",
       "      <td>30</td>\n",
       "    </tr>\n",
       "    <tr>\n",
       "      <td>3</td>\n",
       "      <td>fffe32003400380032003900</td>\n",
       "      <td>2008-11-03</td>\n",
       "      <td>Male</td>\n",
       "      <td>Service</td>\n",
       "      <td>Yes</td>\n",
       "      <td>59</td>\n",
       "      <td>20</td>\n",
       "      <td>12</td>\n",
       "      <td>1</td>\n",
       "      <td>1.0</td>\n",
       "      <td>...</td>\n",
       "      <td>1</td>\n",
       "      <td>1</td>\n",
       "      <td>1</td>\n",
       "      <td>1</td>\n",
       "      <td>0</td>\n",
       "      <td>0</td>\n",
       "      <td>0</td>\n",
       "      <td>0</td>\n",
       "      <td>11</td>\n",
       "      <td>3</td>\n",
       "    </tr>\n",
       "    <tr>\n",
       "      <td>4</td>\n",
       "      <td>fffe31003900340031003600</td>\n",
       "      <td>2008-07-24</td>\n",
       "      <td>Female</td>\n",
       "      <td>Service</td>\n",
       "      <td>No</td>\n",
       "      <td>63</td>\n",
       "      <td>10</td>\n",
       "      <td>9</td>\n",
       "      <td>3</td>\n",
       "      <td>7.0</td>\n",
       "      <td>...</td>\n",
       "      <td>0</td>\n",
       "      <td>1</td>\n",
       "      <td>0</td>\n",
       "      <td>0</td>\n",
       "      <td>0</td>\n",
       "      <td>1</td>\n",
       "      <td>0</td>\n",
       "      <td>0</td>\n",
       "      <td>7</td>\n",
       "      <td>24</td>\n",
       "    </tr>\n",
       "    <tr>\n",
       "      <td>5</td>\n",
       "      <td>fffe3300350037003500</td>\n",
       "      <td>2008-11-26</td>\n",
       "      <td>Male</td>\n",
       "      <td>Product</td>\n",
       "      <td>Yes</td>\n",
       "      <td>44</td>\n",
       "      <td>8</td>\n",
       "      <td>10</td>\n",
       "      <td>2</td>\n",
       "      <td>4.0</td>\n",
       "      <td>...</td>\n",
       "      <td>1</td>\n",
       "      <td>0</td>\n",
       "      <td>1</td>\n",
       "      <td>0</td>\n",
       "      <td>1</td>\n",
       "      <td>0</td>\n",
       "      <td>0</td>\n",
       "      <td>0</td>\n",
       "      <td>11</td>\n",
       "      <td>26</td>\n",
       "    </tr>\n",
       "  </tbody>\n",
       "</table>\n",
       "<p>5 rows × 22 columns</p>\n",
       "</div>"
      ],
      "text/plain": [
       "                Employee ID Date of Joining  Gender Company Type  \\\n",
       "0  fffe32003000360033003200      2008-09-30  Female      Service   \n",
       "1      fffe3700360033003500      2008-11-30    Male      Service   \n",
       "3  fffe32003400380032003900      2008-11-03    Male      Service   \n",
       "4  fffe31003900340031003600      2008-07-24  Female      Service   \n",
       "5      fffe3300350037003500      2008-11-26    Male      Product   \n",
       "\n",
       "  WFH Setup Available  Age  Tenure  Vacations taken  Designation  \\\n",
       "0                  No   52      18                8            2   \n",
       "1                 Yes   26      12                4            1   \n",
       "3                 Yes   59      20               12            1   \n",
       "4                  No   63      10                9            3   \n",
       "5                 Yes   44       8               10            2   \n",
       "\n",
       "   Average Hours worked per day  ...  Male  Service  Yes  1  2  3  4  5  \\\n",
       "0                           3.0  ...     0        1    0  0  1  0  0  0   \n",
       "1                           2.0  ...     1        1    1  1  0  0  0  0   \n",
       "3                           1.0  ...     1        1    1  1  0  0  0  0   \n",
       "4                           7.0  ...     0        1    0  0  0  1  0  0   \n",
       "5                           4.0  ...     1        0    1  0  1  0  0  0   \n",
       "\n",
       "   DOJ Month  DOJ Day  \n",
       "0          9       30  \n",
       "1         11       30  \n",
       "3         11        3  \n",
       "4          7       24  \n",
       "5         11       26  \n",
       "\n",
       "[5 rows x 22 columns]"
      ]
     },
     "execution_count": 580,
     "metadata": {},
     "output_type": "execute_result"
    }
   ],
   "source": [
    "train.head()"
   ]
  },
  {
   "cell_type": "code",
   "execution_count": 581,
   "metadata": {},
   "outputs": [],
   "source": [
    "train = train.drop(columns=['Gender','Company Type','WFH Setup Available','Designation','Employee ID','Date of Joining'])\n",
    "test = test.drop(columns=['Gender','Company Type','WFH Setup Available','Designation','Employee ID','Date of Joining'])"
   ]
  },
  {
   "cell_type": "code",
   "execution_count": 582,
   "metadata": {},
   "outputs": [
    {
     "data": {
      "text/html": [
       "<div>\n",
       "<style scoped>\n",
       "    .dataframe tbody tr th:only-of-type {\n",
       "        vertical-align: middle;\n",
       "    }\n",
       "\n",
       "    .dataframe tbody tr th {\n",
       "        vertical-align: top;\n",
       "    }\n",
       "\n",
       "    .dataframe thead th {\n",
       "        text-align: right;\n",
       "    }\n",
       "</style>\n",
       "<table border=\"1\" class=\"dataframe\">\n",
       "  <thead>\n",
       "    <tr style=\"text-align: right;\">\n",
       "      <th></th>\n",
       "      <th>Age</th>\n",
       "      <th>Tenure</th>\n",
       "      <th>Vacations taken</th>\n",
       "      <th>Average Hours worked per day</th>\n",
       "      <th>Employee satisfaction score</th>\n",
       "      <th>Mental Fatigue Score</th>\n",
       "      <th>Male</th>\n",
       "      <th>Service</th>\n",
       "      <th>Yes</th>\n",
       "      <th>1</th>\n",
       "      <th>2</th>\n",
       "      <th>3</th>\n",
       "      <th>4</th>\n",
       "      <th>5</th>\n",
       "      <th>DOJ Month</th>\n",
       "      <th>DOJ Day</th>\n",
       "    </tr>\n",
       "  </thead>\n",
       "  <tbody>\n",
       "    <tr>\n",
       "      <td>0</td>\n",
       "      <td>52</td>\n",
       "      <td>18</td>\n",
       "      <td>8</td>\n",
       "      <td>3.0</td>\n",
       "      <td>3.8</td>\n",
       "      <td>0.16</td>\n",
       "      <td>0</td>\n",
       "      <td>1</td>\n",
       "      <td>0</td>\n",
       "      <td>0</td>\n",
       "      <td>1</td>\n",
       "      <td>0</td>\n",
       "      <td>0</td>\n",
       "      <td>0</td>\n",
       "      <td>9</td>\n",
       "      <td>30</td>\n",
       "    </tr>\n",
       "    <tr>\n",
       "      <td>1</td>\n",
       "      <td>26</td>\n",
       "      <td>12</td>\n",
       "      <td>4</td>\n",
       "      <td>2.0</td>\n",
       "      <td>5.0</td>\n",
       "      <td>0.36</td>\n",
       "      <td>1</td>\n",
       "      <td>1</td>\n",
       "      <td>1</td>\n",
       "      <td>1</td>\n",
       "      <td>0</td>\n",
       "      <td>0</td>\n",
       "      <td>0</td>\n",
       "      <td>0</td>\n",
       "      <td>11</td>\n",
       "      <td>30</td>\n",
       "    </tr>\n",
       "    <tr>\n",
       "      <td>3</td>\n",
       "      <td>59</td>\n",
       "      <td>20</td>\n",
       "      <td>12</td>\n",
       "      <td>1.0</td>\n",
       "      <td>2.6</td>\n",
       "      <td>0.20</td>\n",
       "      <td>1</td>\n",
       "      <td>1</td>\n",
       "      <td>1</td>\n",
       "      <td>1</td>\n",
       "      <td>0</td>\n",
       "      <td>0</td>\n",
       "      <td>0</td>\n",
       "      <td>0</td>\n",
       "      <td>11</td>\n",
       "      <td>3</td>\n",
       "    </tr>\n",
       "    <tr>\n",
       "      <td>4</td>\n",
       "      <td>63</td>\n",
       "      <td>10</td>\n",
       "      <td>9</td>\n",
       "      <td>7.0</td>\n",
       "      <td>6.9</td>\n",
       "      <td>0.52</td>\n",
       "      <td>0</td>\n",
       "      <td>1</td>\n",
       "      <td>0</td>\n",
       "      <td>0</td>\n",
       "      <td>0</td>\n",
       "      <td>1</td>\n",
       "      <td>0</td>\n",
       "      <td>0</td>\n",
       "      <td>7</td>\n",
       "      <td>24</td>\n",
       "    </tr>\n",
       "    <tr>\n",
       "      <td>5</td>\n",
       "      <td>44</td>\n",
       "      <td>8</td>\n",
       "      <td>10</td>\n",
       "      <td>4.0</td>\n",
       "      <td>3.6</td>\n",
       "      <td>0.29</td>\n",
       "      <td>1</td>\n",
       "      <td>0</td>\n",
       "      <td>1</td>\n",
       "      <td>0</td>\n",
       "      <td>1</td>\n",
       "      <td>0</td>\n",
       "      <td>0</td>\n",
       "      <td>0</td>\n",
       "      <td>11</td>\n",
       "      <td>26</td>\n",
       "    </tr>\n",
       "  </tbody>\n",
       "</table>\n",
       "</div>"
      ],
      "text/plain": [
       "   Age  Tenure  Vacations taken  Average Hours worked per day  \\\n",
       "0   52      18                8                           3.0   \n",
       "1   26      12                4                           2.0   \n",
       "3   59      20               12                           1.0   \n",
       "4   63      10                9                           7.0   \n",
       "5   44       8               10                           4.0   \n",
       "\n",
       "   Employee satisfaction score  Mental Fatigue Score  Male  Service  Yes  1  \\\n",
       "0                          3.8                  0.16     0        1    0  0   \n",
       "1                          5.0                  0.36     1        1    1  1   \n",
       "3                          2.6                  0.20     1        1    1  1   \n",
       "4                          6.9                  0.52     0        1    0  0   \n",
       "5                          3.6                  0.29     1        0    1  0   \n",
       "\n",
       "   2  3  4  5  DOJ Month  DOJ Day  \n",
       "0  1  0  0  0          9       30  \n",
       "1  0  0  0  0         11       30  \n",
       "3  0  0  0  0         11        3  \n",
       "4  0  1  0  0          7       24  \n",
       "5  1  0  0  0         11       26  "
      ]
     },
     "execution_count": 582,
     "metadata": {},
     "output_type": "execute_result"
    }
   ],
   "source": [
    "train.head()"
   ]
  },
  {
   "cell_type": "code",
   "execution_count": 583,
   "metadata": {},
   "outputs": [
    {
     "data": {
      "image/png": "[encoded data removed]",
      "text/plain": [
       "<Figure size 432x288 with 1 Axes>"
      ]
     },
     "metadata": {
      "needs_background": "light"
     },
     "output_type": "display_data"
    },
    {
     "data": {
      "image/png": "[encoded data removed]",
      "text/plain": [
       "<Figure size 432x288 with 1 Axes>"
      ]
     },
     "metadata": {
      "needs_background": "light"
     },
     "output_type": "display_data"
    },
    {
     "data": {
      "image/png": "[encoded data removed]",
      "text/plain": [
       "<Figure size 432x288 with 1 Axes>"
      ]
     },
     "metadata": {
      "needs_background": "light"
     },
     "output_type": "display_data"
    },
    {
     "data": {
      "image/png": "[encoded data removed]",
      "text/plain": [
       "<Figure size 432x288 with 1 Axes>"
      ]
     },
     "metadata": {
      "needs_background": "light"
     },
     "output_type": "display_data"
    },
    {
     "data": {
      "image/png": "[encoded data removed]",
      "text/plain": [
       "<Figure size 432x288 with 1 Axes>"
      ]
     },
     "metadata": {
      "needs_background": "light"
     },
     "output_type": "display_data"
    },
    {
     "data": {
      "image/png": "[encoded data removed]",
      "text/plain": [
       "<Figure size 432x288 with 1 Axes>"
      ]
     },
     "metadata": {
      "needs_background": "light"
     },
     "output_type": "display_data"
    },
    {
     "data": {
      "image/png": "[encoded data removed]",
      "text/plain": [
       "<Figure size 432x288 with 1 Axes>"
      ]
     },
     "metadata": {
      "needs_background": "light"
     },
     "output_type": "display_data"
    },
    {
     "data": {
      "image/png": "[encoded data removed]",
      "text/plain": [
       "<Figure size 432x288 with 1 Axes>"
      ]
     },
     "metadata": {
      "needs_background": "light"
     },
     "output_type": "display_data"
    },
    {
     "data": {
      "image/png": "[encoded data removed]",
      "text/plain": [
       "<Figure size 432x288 with 1 Axes>"
      ]
     },
     "metadata": {
      "needs_background": "light"
     },
     "output_type": "display_data"
    },
    {
     "data": {
      "image/png": "[encoded data removed]",
      "text/plain": [
       "<Figure size 432x288 with 1 Axes>"
      ]
     },
     "metadata": {
      "needs_background": "light"
     },
     "output_type": "display_data"
    },
    {
     "data": {
      "image/png": "[encoded data removed]",
      "text/plain": [
       "<Figure size 432x288 with 1 Axes>"
      ]
     },
     "metadata": {
      "needs_background": "light"
     },
     "output_type": "display_data"
    },
    {
     "data": {
      "image/png": "[encoded data removed]",
      "text/plain": [
       "<Figure size 432x288 with 1 Axes>"
      ]
     },
     "metadata": {
      "needs_background": "light"
     },
     "output_type": "display_data"
    },
    {
     "data": {
      "image/png": "[encoded data removed]",
      "text/plain": [
       "<Figure size 432x288 with 1 Axes>"
      ]
     },
     "metadata": {
      "needs_background": "light"
     },
     "output_type": "display_data"
    },
    {
     "data": {
      "image/png": "[encoded data removed]",
      "text/plain": [
       "<Figure size 432x288 with 1 Axes>"
      ]
     },
     "metadata": {
      "needs_background": "light"
     },
     "output_type": "display_data"
    },
    {
     "data": {
      "image/png": "[encoded data removed]",
      "text/plain": [
       "<Figure size 432x288 with 1 Axes>"
      ]
     },
     "metadata": {
      "needs_background": "light"
     },
     "output_type": "display_data"
    },
    {
     "data": {
      "image/png": "[encoded data removed]",
      "text/plain": [
       "<Figure size 432x288 with 1 Axes>"
      ]
     },
     "metadata": {
      "needs_background": "light"
     },
     "output_type": "display_data"
    }
   ],
   "source": [
    "import matplotlib.pyplot as plt\n",
    "import seaborn as sns\n",
    "\n",
    "for feature in train.columns:\n",
    "    if feature == 'ID':\n",
    "        print()\n",
    "    else:\n",
    "        sns.boxplot(x=feature,y='Mental Fatigue Score',data=train)\n",
    "        plt.show()"
   ]
  },
  {
   "cell_type": "code",
   "execution_count": 584,
   "metadata": {
    "scrolled": true
   },
   "outputs": [],
   "source": [
    "#for feature in ['Age','Tenure','Vacations taken','Average Hours worked per day','Employee satisfaction score']:\n",
    "    #sns.regplot(x=feature,y='Mental Fatigue Score',data=train)\n",
    "    #plt.show()"
   ]
  },
  {
   "cell_type": "code",
   "execution_count": 585,
   "metadata": {},
   "outputs": [],
   "source": [
    "for f in train.columns:\n",
    "    train[f] = train[f].astype('float64')"
   ]
  },
  {
   "cell_type": "code",
   "execution_count": 586,
   "metadata": {},
   "outputs": [],
   "source": [
    "for f in test.columns:\n",
    "    test[f] = test[f].astype('float64')"
   ]
  },
  {
   "cell_type": "markdown",
   "metadata": {},
   "source": [
    "# Train Test Split"
   ]
  },
  {
   "cell_type": "code",
   "execution_count": 587,
   "metadata": {},
   "outputs": [],
   "source": [
    "from sklearn.model_selection import train_test_split\n",
    "df_train, df_test = train_test_split(train, train_size = 0.7, test_size = 0.3, random_state = 100)"
   ]
  },
  {
   "cell_type": "code",
   "execution_count": 588,
   "metadata": {},
   "outputs": [
    {
     "data": {
      "text/html": [
       "<div>\n",
       "<style scoped>\n",
       "    .dataframe tbody tr th:only-of-type {\n",
       "        vertical-align: middle;\n",
       "    }\n",
       "\n",
       "    .dataframe tbody tr th {\n",
       "        vertical-align: top;\n",
       "    }\n",
       "\n",
       "    .dataframe thead th {\n",
       "        text-align: right;\n",
       "    }\n",
       "</style>\n",
       "<table border=\"1\" class=\"dataframe\">\n",
       "  <thead>\n",
       "    <tr style=\"text-align: right;\">\n",
       "      <th></th>\n",
       "      <th>Age</th>\n",
       "      <th>Tenure</th>\n",
       "      <th>Vacations taken</th>\n",
       "      <th>Average Hours worked per day</th>\n",
       "      <th>Employee satisfaction score</th>\n",
       "      <th>Mental Fatigue Score</th>\n",
       "      <th>Male</th>\n",
       "      <th>Service</th>\n",
       "      <th>Yes</th>\n",
       "      <th>1</th>\n",
       "      <th>2</th>\n",
       "      <th>3</th>\n",
       "      <th>4</th>\n",
       "      <th>5</th>\n",
       "      <th>DOJ Month</th>\n",
       "      <th>DOJ Day</th>\n",
       "    </tr>\n",
       "  </thead>\n",
       "  <tbody>\n",
       "    <tr>\n",
       "      <td>6949</td>\n",
       "      <td>50.0</td>\n",
       "      <td>7.0</td>\n",
       "      <td>7.0</td>\n",
       "      <td>6.0</td>\n",
       "      <td>7.4</td>\n",
       "      <td>0.66</td>\n",
       "      <td>0.0</td>\n",
       "      <td>0.0</td>\n",
       "      <td>1.0</td>\n",
       "      <td>0.0</td>\n",
       "      <td>0.0</td>\n",
       "      <td>1.0</td>\n",
       "      <td>0.0</td>\n",
       "      <td>0.0</td>\n",
       "      <td>2.0</td>\n",
       "      <td>10.0</td>\n",
       "    </tr>\n",
       "    <tr>\n",
       "      <td>9463</td>\n",
       "      <td>49.0</td>\n",
       "      <td>13.0</td>\n",
       "      <td>9.0</td>\n",
       "      <td>1.0</td>\n",
       "      <td>1.5</td>\n",
       "      <td>0.12</td>\n",
       "      <td>0.0</td>\n",
       "      <td>0.0</td>\n",
       "      <td>1.0</td>\n",
       "      <td>1.0</td>\n",
       "      <td>0.0</td>\n",
       "      <td>0.0</td>\n",
       "      <td>0.0</td>\n",
       "      <td>0.0</td>\n",
       "      <td>5.0</td>\n",
       "      <td>19.0</td>\n",
       "    </tr>\n",
       "    <tr>\n",
       "      <td>17526</td>\n",
       "      <td>52.0</td>\n",
       "      <td>20.0</td>\n",
       "      <td>4.0</td>\n",
       "      <td>3.0</td>\n",
       "      <td>4.3</td>\n",
       "      <td>0.34</td>\n",
       "      <td>0.0</td>\n",
       "      <td>0.0</td>\n",
       "      <td>1.0</td>\n",
       "      <td>1.0</td>\n",
       "      <td>0.0</td>\n",
       "      <td>0.0</td>\n",
       "      <td>0.0</td>\n",
       "      <td>0.0</td>\n",
       "      <td>3.0</td>\n",
       "      <td>14.0</td>\n",
       "    </tr>\n",
       "    <tr>\n",
       "      <td>317</td>\n",
       "      <td>58.0</td>\n",
       "      <td>10.0</td>\n",
       "      <td>0.0</td>\n",
       "      <td>4.0</td>\n",
       "      <td>7.0</td>\n",
       "      <td>0.47</td>\n",
       "      <td>0.0</td>\n",
       "      <td>1.0</td>\n",
       "      <td>1.0</td>\n",
       "      <td>0.0</td>\n",
       "      <td>1.0</td>\n",
       "      <td>0.0</td>\n",
       "      <td>0.0</td>\n",
       "      <td>0.0</td>\n",
       "      <td>10.0</td>\n",
       "      <td>16.0</td>\n",
       "    </tr>\n",
       "    <tr>\n",
       "      <td>20034</td>\n",
       "      <td>42.0</td>\n",
       "      <td>7.0</td>\n",
       "      <td>10.0</td>\n",
       "      <td>5.0</td>\n",
       "      <td>6.6</td>\n",
       "      <td>0.63</td>\n",
       "      <td>0.0</td>\n",
       "      <td>1.0</td>\n",
       "      <td>1.0</td>\n",
       "      <td>0.0</td>\n",
       "      <td>1.0</td>\n",
       "      <td>0.0</td>\n",
       "      <td>0.0</td>\n",
       "      <td>0.0</td>\n",
       "      <td>4.0</td>\n",
       "      <td>29.0</td>\n",
       "    </tr>\n",
       "  </tbody>\n",
       "</table>\n",
       "</div>"
      ],
      "text/plain": [
       "        Age  Tenure  Vacations taken  Average Hours worked per day  \\\n",
       "6949   50.0     7.0              7.0                           6.0   \n",
       "9463   49.0    13.0              9.0                           1.0   \n",
       "17526  52.0    20.0              4.0                           3.0   \n",
       "317    58.0    10.0              0.0                           4.0   \n",
       "20034  42.0     7.0             10.0                           5.0   \n",
       "\n",
       "       Employee satisfaction score  Mental Fatigue Score  Male  Service  Yes  \\\n",
       "6949                           7.4                  0.66   0.0      0.0  1.0   \n",
       "9463                           1.5                  0.12   0.0      0.0  1.0   \n",
       "17526                          4.3                  0.34   0.0      0.0  1.0   \n",
       "317                            7.0                  0.47   0.0      1.0  1.0   \n",
       "20034                          6.6                  0.63   0.0      1.0  1.0   \n",
       "\n",
       "         1    2    3    4    5  DOJ Month  DOJ Day  \n",
       "6949   0.0  0.0  1.0  0.0  0.0        2.0     10.0  \n",
       "9463   1.0  0.0  0.0  0.0  0.0        5.0     19.0  \n",
       "17526  1.0  0.0  0.0  0.0  0.0        3.0     14.0  \n",
       "317    0.0  1.0  0.0  0.0  0.0       10.0     16.0  \n",
       "20034  0.0  1.0  0.0  0.0  0.0        4.0     29.0  "
      ]
     },
     "execution_count": 588,
     "metadata": {},
     "output_type": "execute_result"
    }
   ],
   "source": [
    "df_train.head()"
   ]
  },
  {
   "cell_type": "code",
   "execution_count": 589,
   "metadata": {},
   "outputs": [],
   "source": [
    "num_vars = ['Age','Tenure','Vacations taken','Average Hours worked per day','Employee satisfaction score']"
   ]
  },
  {
   "cell_type": "code",
   "execution_count": 590,
   "metadata": {},
   "outputs": [
    {
     "data": {
      "text/html": [
       "<div>\n",
       "<style scoped>\n",
       "    .dataframe tbody tr th:only-of-type {\n",
       "        vertical-align: middle;\n",
       "    }\n",
       "\n",
       "    .dataframe tbody tr th {\n",
       "        vertical-align: top;\n",
       "    }\n",
       "\n",
       "    .dataframe thead th {\n",
       "        text-align: right;\n",
       "    }\n",
       "</style>\n",
       "<table border=\"1\" class=\"dataframe\">\n",
       "  <thead>\n",
       "    <tr style=\"text-align: right;\">\n",
       "      <th></th>\n",
       "      <th>Age</th>\n",
       "      <th>Tenure</th>\n",
       "      <th>Vacations taken</th>\n",
       "      <th>Average Hours worked per day</th>\n",
       "      <th>Employee satisfaction score</th>\n",
       "      <th>Mental Fatigue Score</th>\n",
       "      <th>Male</th>\n",
       "      <th>Service</th>\n",
       "      <th>Yes</th>\n",
       "      <th>1</th>\n",
       "      <th>2</th>\n",
       "      <th>3</th>\n",
       "      <th>4</th>\n",
       "      <th>5</th>\n",
       "      <th>DOJ Month</th>\n",
       "      <th>DOJ Day</th>\n",
       "    </tr>\n",
       "  </thead>\n",
       "  <tbody>\n",
       "    <tr>\n",
       "      <td>6949</td>\n",
       "      <td>0.659091</td>\n",
       "      <td>0.315789</td>\n",
       "      <td>0.583333</td>\n",
       "      <td>0.555556</td>\n",
       "      <td>0.74</td>\n",
       "      <td>0.66</td>\n",
       "      <td>0.0</td>\n",
       "      <td>0.0</td>\n",
       "      <td>1.0</td>\n",
       "      <td>0.0</td>\n",
       "      <td>0.0</td>\n",
       "      <td>1.0</td>\n",
       "      <td>0.0</td>\n",
       "      <td>0.0</td>\n",
       "      <td>2.0</td>\n",
       "      <td>10.0</td>\n",
       "    </tr>\n",
       "    <tr>\n",
       "      <td>9463</td>\n",
       "      <td>0.636364</td>\n",
       "      <td>0.631579</td>\n",
       "      <td>0.750000</td>\n",
       "      <td>0.000000</td>\n",
       "      <td>0.15</td>\n",
       "      <td>0.12</td>\n",
       "      <td>0.0</td>\n",
       "      <td>0.0</td>\n",
       "      <td>1.0</td>\n",
       "      <td>1.0</td>\n",
       "      <td>0.0</td>\n",
       "      <td>0.0</td>\n",
       "      <td>0.0</td>\n",
       "      <td>0.0</td>\n",
       "      <td>5.0</td>\n",
       "      <td>19.0</td>\n",
       "    </tr>\n",
       "    <tr>\n",
       "      <td>17526</td>\n",
       "      <td>0.704545</td>\n",
       "      <td>1.000000</td>\n",
       "      <td>0.333333</td>\n",
       "      <td>0.222222</td>\n",
       "      <td>0.43</td>\n",
       "      <td>0.34</td>\n",
       "      <td>0.0</td>\n",
       "      <td>0.0</td>\n",
       "      <td>1.0</td>\n",
       "      <td>1.0</td>\n",
       "      <td>0.0</td>\n",
       "      <td>0.0</td>\n",
       "      <td>0.0</td>\n",
       "      <td>0.0</td>\n",
       "      <td>3.0</td>\n",
       "      <td>14.0</td>\n",
       "    </tr>\n",
       "    <tr>\n",
       "      <td>317</td>\n",
       "      <td>0.840909</td>\n",
       "      <td>0.473684</td>\n",
       "      <td>0.000000</td>\n",
       "      <td>0.333333</td>\n",
       "      <td>0.70</td>\n",
       "      <td>0.47</td>\n",
       "      <td>0.0</td>\n",
       "      <td>1.0</td>\n",
       "      <td>1.0</td>\n",
       "      <td>0.0</td>\n",
       "      <td>1.0</td>\n",
       "      <td>0.0</td>\n",
       "      <td>0.0</td>\n",
       "      <td>0.0</td>\n",
       "      <td>10.0</td>\n",
       "      <td>16.0</td>\n",
       "    </tr>\n",
       "    <tr>\n",
       "      <td>20034</td>\n",
       "      <td>0.477273</td>\n",
       "      <td>0.315789</td>\n",
       "      <td>0.833333</td>\n",
       "      <td>0.444444</td>\n",
       "      <td>0.66</td>\n",
       "      <td>0.63</td>\n",
       "      <td>0.0</td>\n",
       "      <td>1.0</td>\n",
       "      <td>1.0</td>\n",
       "      <td>0.0</td>\n",
       "      <td>1.0</td>\n",
       "      <td>0.0</td>\n",
       "      <td>0.0</td>\n",
       "      <td>0.0</td>\n",
       "      <td>4.0</td>\n",
       "      <td>29.0</td>\n",
       "    </tr>\n",
       "  </tbody>\n",
       "</table>\n",
       "</div>"
      ],
      "text/plain": [
       "            Age    Tenure  Vacations taken  Average Hours worked per day  \\\n",
       "6949   0.659091  0.315789         0.583333                      0.555556   \n",
       "9463   0.636364  0.631579         0.750000                      0.000000   \n",
       "17526  0.704545  1.000000         0.333333                      0.222222   \n",
       "317    0.840909  0.473684         0.000000                      0.333333   \n",
       "20034  0.477273  0.315789         0.833333                      0.444444   \n",
       "\n",
       "       Employee satisfaction score  Mental Fatigue Score  Male  Service  Yes  \\\n",
       "6949                          0.74                  0.66   0.0      0.0  1.0   \n",
       "9463                          0.15                  0.12   0.0      0.0  1.0   \n",
       "17526                         0.43                  0.34   0.0      0.0  1.0   \n",
       "317                           0.70                  0.47   0.0      1.0  1.0   \n",
       "20034                         0.66                  0.63   0.0      1.0  1.0   \n",
       "\n",
       "         1    2    3    4    5  DOJ Month  DOJ Day  \n",
       "6949   0.0  0.0  1.0  0.0  0.0        2.0     10.0  \n",
       "9463   1.0  0.0  0.0  0.0  0.0        5.0     19.0  \n",
       "17526  1.0  0.0  0.0  0.0  0.0        3.0     14.0  \n",
       "317    0.0  1.0  0.0  0.0  0.0       10.0     16.0  \n",
       "20034  0.0  1.0  0.0  0.0  0.0        4.0     29.0  "
      ]
     },
     "execution_count": 590,
     "metadata": {},
     "output_type": "execute_result"
    }
   ],
   "source": [
    "from sklearn.preprocessing import MinMaxScaler\n",
    "scaler = MinMaxScaler()\n",
    "df_train[num_vars] = scaler.fit_transform(df_train[num_vars])\n",
    "df_train.head()"
   ]
  },
  {
   "cell_type": "code",
   "execution_count": 591,
   "metadata": {},
   "outputs": [],
   "source": [
    "df_test[num_vars] = scaler.transform(df_test[num_vars])"
   ]
  },
  {
   "cell_type": "code",
   "execution_count": 592,
   "metadata": {},
   "outputs": [],
   "source": [
    "y_train = df_train.pop('Mental Fatigue Score')\n",
    "X_train = df_train"
   ]
  },
  {
   "cell_type": "code",
   "execution_count": 593,
   "metadata": {},
   "outputs": [],
   "source": [
    "y_test = df_test.pop('Mental Fatigue Score')\n",
    "X_test = df_test"
   ]
  },
  {
   "cell_type": "code",
   "execution_count": 594,
   "metadata": {},
   "outputs": [
    {
     "data": {
      "text/plain": [
       "((5601, 15), (5601,), (13069,), (13069, 15))"
      ]
     },
     "execution_count": 594,
     "metadata": {},
     "output_type": "execute_result"
    }
   ],
   "source": [
    "X_test.shape, y_test.shape, y_train.shape, X_train.shape"
   ]
  },
  {
   "cell_type": "code",
   "execution_count": 595,
   "metadata": {},
   "outputs": [
    {
     "data": {
      "text/html": [
       "<div>\n",
       "<style scoped>\n",
       "    .dataframe tbody tr th:only-of-type {\n",
       "        vertical-align: middle;\n",
       "    }\n",
       "\n",
       "    .dataframe tbody tr th {\n",
       "        vertical-align: top;\n",
       "    }\n",
       "\n",
       "    .dataframe thead th {\n",
       "        text-align: right;\n",
       "    }\n",
       "</style>\n",
       "<table border=\"1\" class=\"dataframe\">\n",
       "  <thead>\n",
       "    <tr style=\"text-align: right;\">\n",
       "      <th></th>\n",
       "      <th>Age</th>\n",
       "      <th>Tenure</th>\n",
       "      <th>Vacations taken</th>\n",
       "      <th>Average Hours worked per day</th>\n",
       "      <th>Employee satisfaction score</th>\n",
       "      <th>Male</th>\n",
       "      <th>Service</th>\n",
       "      <th>Yes</th>\n",
       "      <th>1</th>\n",
       "      <th>2</th>\n",
       "      <th>3</th>\n",
       "      <th>4</th>\n",
       "      <th>5</th>\n",
       "      <th>DOJ Month</th>\n",
       "      <th>DOJ Day</th>\n",
       "    </tr>\n",
       "  </thead>\n",
       "  <tbody>\n",
       "    <tr>\n",
       "      <td>6949</td>\n",
       "      <td>0.659091</td>\n",
       "      <td>0.315789</td>\n",
       "      <td>0.583333</td>\n",
       "      <td>0.555556</td>\n",
       "      <td>0.74</td>\n",
       "      <td>0.0</td>\n",
       "      <td>0.0</td>\n",
       "      <td>1.0</td>\n",
       "      <td>0.0</td>\n",
       "      <td>0.0</td>\n",
       "      <td>1.0</td>\n",
       "      <td>0.0</td>\n",
       "      <td>0.0</td>\n",
       "      <td>2.0</td>\n",
       "      <td>10.0</td>\n",
       "    </tr>\n",
       "    <tr>\n",
       "      <td>9463</td>\n",
       "      <td>0.636364</td>\n",
       "      <td>0.631579</td>\n",
       "      <td>0.750000</td>\n",
       "      <td>0.000000</td>\n",
       "      <td>0.15</td>\n",
       "      <td>0.0</td>\n",
       "      <td>0.0</td>\n",
       "      <td>1.0</td>\n",
       "      <td>1.0</td>\n",
       "      <td>0.0</td>\n",
       "      <td>0.0</td>\n",
       "      <td>0.0</td>\n",
       "      <td>0.0</td>\n",
       "      <td>5.0</td>\n",
       "      <td>19.0</td>\n",
       "    </tr>\n",
       "    <tr>\n",
       "      <td>17526</td>\n",
       "      <td>0.704545</td>\n",
       "      <td>1.000000</td>\n",
       "      <td>0.333333</td>\n",
       "      <td>0.222222</td>\n",
       "      <td>0.43</td>\n",
       "      <td>0.0</td>\n",
       "      <td>0.0</td>\n",
       "      <td>1.0</td>\n",
       "      <td>1.0</td>\n",
       "      <td>0.0</td>\n",
       "      <td>0.0</td>\n",
       "      <td>0.0</td>\n",
       "      <td>0.0</td>\n",
       "      <td>3.0</td>\n",
       "      <td>14.0</td>\n",
       "    </tr>\n",
       "    <tr>\n",
       "      <td>317</td>\n",
       "      <td>0.840909</td>\n",
       "      <td>0.473684</td>\n",
       "      <td>0.000000</td>\n",
       "      <td>0.333333</td>\n",
       "      <td>0.70</td>\n",
       "      <td>0.0</td>\n",
       "      <td>1.0</td>\n",
       "      <td>1.0</td>\n",
       "      <td>0.0</td>\n",
       "      <td>1.0</td>\n",
       "      <td>0.0</td>\n",
       "      <td>0.0</td>\n",
       "      <td>0.0</td>\n",
       "      <td>10.0</td>\n",
       "      <td>16.0</td>\n",
       "    </tr>\n",
       "    <tr>\n",
       "      <td>20034</td>\n",
       "      <td>0.477273</td>\n",
       "      <td>0.315789</td>\n",
       "      <td>0.833333</td>\n",
       "      <td>0.444444</td>\n",
       "      <td>0.66</td>\n",
       "      <td>0.0</td>\n",
       "      <td>1.0</td>\n",
       "      <td>1.0</td>\n",
       "      <td>0.0</td>\n",
       "      <td>1.0</td>\n",
       "      <td>0.0</td>\n",
       "      <td>0.0</td>\n",
       "      <td>0.0</td>\n",
       "      <td>4.0</td>\n",
       "      <td>29.0</td>\n",
       "    </tr>\n",
       "  </tbody>\n",
       "</table>\n",
       "</div>"
      ],
      "text/plain": [
       "            Age    Tenure  Vacations taken  Average Hours worked per day  \\\n",
       "6949   0.659091  0.315789         0.583333                      0.555556   \n",
       "9463   0.636364  0.631579         0.750000                      0.000000   \n",
       "17526  0.704545  1.000000         0.333333                      0.222222   \n",
       "317    0.840909  0.473684         0.000000                      0.333333   \n",
       "20034  0.477273  0.315789         0.833333                      0.444444   \n",
       "\n",
       "       Employee satisfaction score  Male  Service  Yes    1    2    3    4  \\\n",
       "6949                          0.74   0.0      0.0  1.0  0.0  0.0  1.0  0.0   \n",
       "9463                          0.15   0.0      0.0  1.0  1.0  0.0  0.0  0.0   \n",
       "17526                         0.43   0.0      0.0  1.0  1.0  0.0  0.0  0.0   \n",
       "317                           0.70   0.0      1.0  1.0  0.0  1.0  0.0  0.0   \n",
       "20034                         0.66   0.0      1.0  1.0  0.0  1.0  0.0  0.0   \n",
       "\n",
       "         5  DOJ Month  DOJ Day  \n",
       "6949   0.0        2.0     10.0  \n",
       "9463   0.0        5.0     19.0  \n",
       "17526  0.0        3.0     14.0  \n",
       "317    0.0       10.0     16.0  \n",
       "20034  0.0        4.0     29.0  "
      ]
     },
     "execution_count": 595,
     "metadata": {},
     "output_type": "execute_result"
    }
   ],
   "source": [
    "X_train.head()"
   ]
  },
  {
   "cell_type": "code",
   "execution_count": 596,
   "metadata": {},
   "outputs": [
    {
     "data": {
      "text/html": [
       "<div>\n",
       "<style scoped>\n",
       "    .dataframe tbody tr th:only-of-type {\n",
       "        vertical-align: middle;\n",
       "    }\n",
       "\n",
       "    .dataframe tbody tr th {\n",
       "        vertical-align: top;\n",
       "    }\n",
       "\n",
       "    .dataframe thead th {\n",
       "        text-align: right;\n",
       "    }\n",
       "</style>\n",
       "<table border=\"1\" class=\"dataframe\">\n",
       "  <thead>\n",
       "    <tr style=\"text-align: right;\">\n",
       "      <th></th>\n",
       "      <th>Age</th>\n",
       "      <th>Tenure</th>\n",
       "      <th>Vacations taken</th>\n",
       "      <th>Average Hours worked per day</th>\n",
       "      <th>Employee satisfaction score</th>\n",
       "      <th>Male</th>\n",
       "      <th>Service</th>\n",
       "      <th>Yes</th>\n",
       "      <th>1</th>\n",
       "      <th>2</th>\n",
       "      <th>3</th>\n",
       "      <th>4</th>\n",
       "      <th>5</th>\n",
       "      <th>DOJ Month</th>\n",
       "      <th>DOJ Day</th>\n",
       "    </tr>\n",
       "  </thead>\n",
       "  <tbody>\n",
       "    <tr>\n",
       "      <td>15455</td>\n",
       "      <td>0.022727</td>\n",
       "      <td>0.000000</td>\n",
       "      <td>0.416667</td>\n",
       "      <td>0.000000</td>\n",
       "      <td>0.34</td>\n",
       "      <td>0.0</td>\n",
       "      <td>1.0</td>\n",
       "      <td>0.0</td>\n",
       "      <td>0.0</td>\n",
       "      <td>0.0</td>\n",
       "      <td>0.0</td>\n",
       "      <td>0.0</td>\n",
       "      <td>0.0</td>\n",
       "      <td>10.0</td>\n",
       "      <td>1.0</td>\n",
       "    </tr>\n",
       "    <tr>\n",
       "      <td>8964</td>\n",
       "      <td>0.772727</td>\n",
       "      <td>0.263158</td>\n",
       "      <td>0.750000</td>\n",
       "      <td>0.444444</td>\n",
       "      <td>0.71</td>\n",
       "      <td>0.0</td>\n",
       "      <td>0.0</td>\n",
       "      <td>1.0</td>\n",
       "      <td>0.0</td>\n",
       "      <td>0.0</td>\n",
       "      <td>1.0</td>\n",
       "      <td>0.0</td>\n",
       "      <td>0.0</td>\n",
       "      <td>9.0</td>\n",
       "      <td>27.0</td>\n",
       "    </tr>\n",
       "    <tr>\n",
       "      <td>6401</td>\n",
       "      <td>0.568182</td>\n",
       "      <td>0.000000</td>\n",
       "      <td>0.083333</td>\n",
       "      <td>0.555556</td>\n",
       "      <td>0.87</td>\n",
       "      <td>0.0</td>\n",
       "      <td>0.0</td>\n",
       "      <td>0.0</td>\n",
       "      <td>0.0</td>\n",
       "      <td>0.0</td>\n",
       "      <td>1.0</td>\n",
       "      <td>0.0</td>\n",
       "      <td>0.0</td>\n",
       "      <td>4.0</td>\n",
       "      <td>12.0</td>\n",
       "    </tr>\n",
       "    <tr>\n",
       "      <td>2680</td>\n",
       "      <td>0.613636</td>\n",
       "      <td>0.578947</td>\n",
       "      <td>0.166667</td>\n",
       "      <td>0.666667</td>\n",
       "      <td>0.75</td>\n",
       "      <td>1.0</td>\n",
       "      <td>0.0</td>\n",
       "      <td>0.0</td>\n",
       "      <td>0.0</td>\n",
       "      <td>0.0</td>\n",
       "      <td>0.0</td>\n",
       "      <td>1.0</td>\n",
       "      <td>0.0</td>\n",
       "      <td>8.0</td>\n",
       "      <td>14.0</td>\n",
       "    </tr>\n",
       "    <tr>\n",
       "      <td>12926</td>\n",
       "      <td>0.500000</td>\n",
       "      <td>0.157895</td>\n",
       "      <td>1.000000</td>\n",
       "      <td>0.666667</td>\n",
       "      <td>0.80</td>\n",
       "      <td>1.0</td>\n",
       "      <td>1.0</td>\n",
       "      <td>0.0</td>\n",
       "      <td>0.0</td>\n",
       "      <td>0.0</td>\n",
       "      <td>1.0</td>\n",
       "      <td>0.0</td>\n",
       "      <td>0.0</td>\n",
       "      <td>10.0</td>\n",
       "      <td>26.0</td>\n",
       "    </tr>\n",
       "  </tbody>\n",
       "</table>\n",
       "</div>"
      ],
      "text/plain": [
       "            Age    Tenure  Vacations taken  Average Hours worked per day  \\\n",
       "15455  0.022727  0.000000         0.416667                      0.000000   \n",
       "8964   0.772727  0.263158         0.750000                      0.444444   \n",
       "6401   0.568182  0.000000         0.083333                      0.555556   \n",
       "2680   0.613636  0.578947         0.166667                      0.666667   \n",
       "12926  0.500000  0.157895         1.000000                      0.666667   \n",
       "\n",
       "       Employee satisfaction score  Male  Service  Yes    1    2    3    4  \\\n",
       "15455                         0.34   0.0      1.0  0.0  0.0  0.0  0.0  0.0   \n",
       "8964                          0.71   0.0      0.0  1.0  0.0  0.0  1.0  0.0   \n",
       "6401                          0.87   0.0      0.0  0.0  0.0  0.0  1.0  0.0   \n",
       "2680                          0.75   1.0      0.0  0.0  0.0  0.0  0.0  1.0   \n",
       "12926                         0.80   1.0      1.0  0.0  0.0  0.0  1.0  0.0   \n",
       "\n",
       "         5  DOJ Month  DOJ Day  \n",
       "15455  0.0       10.0      1.0  \n",
       "8964   0.0        9.0     27.0  \n",
       "6401   0.0        4.0     12.0  \n",
       "2680   0.0        8.0     14.0  \n",
       "12926  0.0       10.0     26.0  "
      ]
     },
     "execution_count": 596,
     "metadata": {},
     "output_type": "execute_result"
    }
   ],
   "source": [
    "X_test.head()"
   ]
  },
  {
   "cell_type": "markdown",
   "metadata": {},
   "source": [
    "# Models"
   ]
  },
  {
   "cell_type": "markdown",
   "metadata": {},
   "source": [
    "## Random Forest"
   ]
  },
  {
   "cell_type": "code",
   "execution_count": 597,
   "metadata": {},
   "outputs": [],
   "source": [
    "from sklearn.ensemble import RandomForestRegressor\n",
    "from sklearn.metrics import mean_squared_error as MSE"
   ]
  },
  {
   "cell_type": "code",
   "execution_count": 598,
   "metadata": {},
   "outputs": [
    {
     "data": {
      "text/plain": [
       "RandomForestRegressor(random_state=0)"
      ]
     },
     "execution_count": 598,
     "metadata": {},
     "output_type": "execute_result"
    }
   ],
   "source": [
    "regr = RandomForestRegressor(random_state=0)  \n",
    "regr.fit(X_train, y_train)"
   ]
  },
  {
   "cell_type": "code",
   "execution_count": 599,
   "metadata": {},
   "outputs": [],
   "source": [
    "y_pred = regr.predict(X_train)"
   ]
  },
  {
   "cell_type": "code",
   "execution_count": 600,
   "metadata": {},
   "outputs": [
    {
     "data": {
      "text/plain": [
       "0.9855438138777429"
      ]
     },
     "execution_count": 600,
     "metadata": {},
     "output_type": "execute_result"
    }
   ],
   "source": [
    "from sklearn.metrics import r2_score\n",
    "score = r2_score(y_train,y_pred)\n",
    "score"
   ]
  },
  {
   "cell_type": "code",
   "execution_count": 601,
   "metadata": {},
   "outputs": [],
   "source": [
    "y_pred = regr.predict(X_test)"
   ]
  },
  {
   "cell_type": "code",
   "execution_count": 602,
   "metadata": {},
   "outputs": [
    {
     "data": {
      "text/plain": [
       "0.8971772494824719"
      ]
     },
     "execution_count": 602,
     "metadata": {},
     "output_type": "execute_result"
    }
   ],
   "source": [
    "from sklearn.metrics import r2_score\n",
    "score = r2_score(y_test,y_pred)\n",
    "score"
   ]
  },
  {
   "cell_type": "code",
   "execution_count": 603,
   "metadata": {},
   "outputs": [
    {
     "data": {
      "text/html": [
       "<div>\n",
       "<style scoped>\n",
       "    .dataframe tbody tr th:only-of-type {\n",
       "        vertical-align: middle;\n",
       "    }\n",
       "\n",
       "    .dataframe tbody tr th {\n",
       "        vertical-align: top;\n",
       "    }\n",
       "\n",
       "    .dataframe thead th {\n",
       "        text-align: right;\n",
       "    }\n",
       "</style>\n",
       "<table border=\"1\" class=\"dataframe\">\n",
       "  <thead>\n",
       "    <tr style=\"text-align: right;\">\n",
       "      <th></th>\n",
       "      <th>Varname</th>\n",
       "      <th>Imp</th>\n",
       "    </tr>\n",
       "  </thead>\n",
       "  <tbody>\n",
       "    <tr>\n",
       "      <td>4</td>\n",
       "      <td>Employee satisfaction score</td>\n",
       "      <td>0.879964</td>\n",
       "    </tr>\n",
       "    <tr>\n",
       "      <td>3</td>\n",
       "      <td>Average Hours worked per day</td>\n",
       "      <td>0.032098</td>\n",
       "    </tr>\n",
       "    <tr>\n",
       "      <td>0</td>\n",
       "      <td>Age</td>\n",
       "      <td>0.017045</td>\n",
       "    </tr>\n",
       "    <tr>\n",
       "      <td>14</td>\n",
       "      <td>DOJ Day</td>\n",
       "      <td>0.016863</td>\n",
       "    </tr>\n",
       "    <tr>\n",
       "      <td>1</td>\n",
       "      <td>Tenure</td>\n",
       "      <td>0.014262</td>\n",
       "    </tr>\n",
       "    <tr>\n",
       "      <td>2</td>\n",
       "      <td>Vacations taken</td>\n",
       "      <td>0.012179</td>\n",
       "    </tr>\n",
       "    <tr>\n",
       "      <td>13</td>\n",
       "      <td>DOJ Month</td>\n",
       "      <td>0.011773</td>\n",
       "    </tr>\n",
       "    <tr>\n",
       "      <td>7</td>\n",
       "      <td>Yes</td>\n",
       "      <td>0.003494</td>\n",
       "    </tr>\n",
       "    <tr>\n",
       "      <td>5</td>\n",
       "      <td>Male</td>\n",
       "      <td>0.002839</td>\n",
       "    </tr>\n",
       "    <tr>\n",
       "      <td>6</td>\n",
       "      <td>Service</td>\n",
       "      <td>0.002490</td>\n",
       "    </tr>\n",
       "    <tr>\n",
       "      <td>9</td>\n",
       "      <td>2</td>\n",
       "      <td>0.002101</td>\n",
       "    </tr>\n",
       "    <tr>\n",
       "      <td>10</td>\n",
       "      <td>3</td>\n",
       "      <td>0.001875</td>\n",
       "    </tr>\n",
       "    <tr>\n",
       "      <td>11</td>\n",
       "      <td>4</td>\n",
       "      <td>0.001247</td>\n",
       "    </tr>\n",
       "    <tr>\n",
       "      <td>8</td>\n",
       "      <td>1</td>\n",
       "      <td>0.001164</td>\n",
       "    </tr>\n",
       "    <tr>\n",
       "      <td>12</td>\n",
       "      <td>5</td>\n",
       "      <td>0.000605</td>\n",
       "    </tr>\n",
       "  </tbody>\n",
       "</table>\n",
       "</div>"
      ],
      "text/plain": [
       "                         Varname       Imp\n",
       "4    Employee satisfaction score  0.879964\n",
       "3   Average Hours worked per day  0.032098\n",
       "0                            Age  0.017045\n",
       "14                       DOJ Day  0.016863\n",
       "1                         Tenure  0.014262\n",
       "2                Vacations taken  0.012179\n",
       "13                     DOJ Month  0.011773\n",
       "7                            Yes  0.003494\n",
       "5                           Male  0.002839\n",
       "6                        Service  0.002490\n",
       "9                              2  0.002101\n",
       "10                             3  0.001875\n",
       "11                             4  0.001247\n",
       "8                              1  0.001164\n",
       "12                             5  0.000605"
      ]
     },
     "execution_count": 603,
     "metadata": {},
     "output_type": "execute_result"
    }
   ],
   "source": [
    "imp_df = pd.DataFrame({\n",
    "    \"Varname\": X_train.columns,\n",
    "    \"Imp\": regr.feature_importances_})\n",
    "imp_df = imp_df.sort_values(by=\"Imp\", ascending=False)\n",
    "imp_df"
   ]
  },
  {
   "cell_type": "code",
   "execution_count": 604,
   "metadata": {},
   "outputs": [
    {
     "data": {
      "text/plain": [
       "4      Employee satisfaction score\n",
       "3     Average Hours worked per day\n",
       "0                              Age\n",
       "14                         DOJ Day\n",
       "1                           Tenure\n",
       "2                  Vacations taken\n",
       "13                       DOJ Month\n",
       "7                              Yes\n",
       "Name: Varname, dtype: object"
      ]
     },
     "execution_count": 604,
     "metadata": {},
     "output_type": "execute_result"
    }
   ],
   "source": [
    "imp_f = imp_df['Varname'].head(8)\n",
    "imp_f"
   ]
  },
  {
   "cell_type": "code",
   "execution_count": 605,
   "metadata": {},
   "outputs": [
    {
     "data": {
      "text/plain": [
       "Text(0.5, 1.0, 'Feature Importance with RFC')"
      ]
     },
     "execution_count": 605,
     "metadata": {},
     "output_type": "execute_result"
    },
    {
     "data": {
      "image/png": "[encoded data removed]",
      "text/plain": [
       "<Figure size 504x504 with 1 Axes>"
      ]
     },
     "metadata": {
      "needs_background": "light"
     },
     "output_type": "display_data"
    }
   ],
   "source": [
    "from matplotlib import pyplot\n",
    "a4_dims = (7, 7)\n",
    "fig, ax = pyplot.subplots(figsize=a4_dims)\n",
    "\n",
    "sns.barplot(y='Varname',x='Imp', data=imp_df,ax=ax) #set_xticklabels(rotation=90, labels=imp_df['Varname'].unique())\n",
    "plt.title('Feature Importance with RFC', fontsize=20)"
   ]
  },
  {
   "cell_type": "code",
   "execution_count": 606,
   "metadata": {},
   "outputs": [
    {
     "data": {
      "text/plain": [
       "RandomForestRegressor(random_state=0)"
      ]
     },
     "execution_count": 606,
     "metadata": {},
     "output_type": "execute_result"
    }
   ],
   "source": [
    "regr = RandomForestRegressor(random_state=0)\n",
    "regr.fit(X_train[imp_f], y_train)"
   ]
  },
  {
   "cell_type": "code",
   "execution_count": 607,
   "metadata": {},
   "outputs": [
    {
     "name": "stdout",
     "output_type": "stream",
     "text": [
      "RMSE :  0.024376\n"
     ]
    },
    {
     "data": {
      "text/plain": [
       "0.9850828593497408"
      ]
     },
     "execution_count": 607,
     "metadata": {},
     "output_type": "execute_result"
    }
   ],
   "source": [
    "y_pred = regr.predict(X_train[imp_f])\n",
    "\n",
    "# RMSE Computation\n",
    "rmse = np.sqrt(MSE(y_train, y_pred))\n",
    "print(\"RMSE : % f\" %(rmse))\n",
    "\n",
    "from sklearn.metrics import r2_score\n",
    "score = r2_score(y_train,y_pred)\n",
    "score"
   ]
  },
  {
   "cell_type": "code",
   "execution_count": 608,
   "metadata": {},
   "outputs": [
    {
     "name": "stdout",
     "output_type": "stream",
     "text": [
      "RMSE :  0.065064\n"
     ]
    },
    {
     "data": {
      "text/plain": [
       "0.8938417719438776"
      ]
     },
     "execution_count": 608,
     "metadata": {},
     "output_type": "execute_result"
    }
   ],
   "source": [
    "y_pred = regr.predict(X_test[imp_f])\n",
    "\n",
    "# RMSE Computation\n",
    "rmse = np.sqrt(MSE(y_test, y_pred))\n",
    "print(\"RMSE : % f\" %(rmse))\n",
    "\n",
    "from sklearn.metrics import r2_score\n",
    "score = r2_score(y_test,y_pred)\n",
    "score"
   ]
  },
  {
   "cell_type": "markdown",
   "metadata": {},
   "source": [
    "## XGBOOST"
   ]
  },
  {
   "cell_type": "code",
   "execution_count": 609,
   "metadata": {},
   "outputs": [],
   "source": [
    "import xgboost as xg  "
   ]
  },
  {
   "cell_type": "code",
   "execution_count": 662,
   "metadata": {},
   "outputs": [],
   "source": [
    "xgb_r = xg.XGBRegressor(objective ='reg:linear',\n",
    "                  n_estimators =10, seed = 123,learning_rate=0.3,max_depth=7)"
   ]
  },
  {
   "cell_type": "code",
   "execution_count": 663,
   "metadata": {},
   "outputs": [
    {
     "name": "stdout",
     "output_type": "stream",
     "text": [
      "[20:39:04] WARNING: C:/Users/Administrator/workspace/xgboost-win64_release_1.3.0/src/objective/regression_obj.cu:170: reg:linear is now deprecated in favor of reg:squarederror.\n"
     ]
    },
    {
     "data": {
      "text/plain": [
       "XGBRegressor(base_score=0.5, booster='gbtree', colsample_bylevel=1,\n",
       "             colsample_bynode=1, colsample_bytree=1, gamma=0, gpu_id=-1,\n",
       "             importance_type='gain', interaction_constraints='',\n",
       "             learning_rate=0.3, max_delta_step=0, max_depth=7,\n",
       "             min_child_weight=1, missing=nan, monotone_constraints='()',\n",
       "             n_estimators=10, n_jobs=8, num_parallel_tree=1,\n",
       "             objective='reg:linear', random_state=123, reg_alpha=0,\n",
       "             reg_lambda=1, scale_pos_weight=1, seed=123, subsample=1,\n",
       "             tree_method='exact', validate_parameters=1, verbosity=None)"
      ]
     },
     "execution_count": 663,
     "metadata": {},
     "output_type": "execute_result"
    }
   ],
   "source": [
    "# Fitting the model\n",
    "xgb_r.fit(X_train, y_train)"
   ]
  },
  {
   "cell_type": "code",
   "execution_count": 664,
   "metadata": {},
   "outputs": [
    {
     "name": "stdout",
     "output_type": "stream",
     "text": [
      "RMSE :  0.056138\n"
     ]
    },
    {
     "data": {
      "text/plain": [
       "0.9208822494135033"
      ]
     },
     "execution_count": 664,
     "metadata": {},
     "output_type": "execute_result"
    }
   ],
   "source": [
    "# Predict the model\n",
    "pred = xgb_r.predict(X_train)\n",
    "  \n",
    "# RMSE Computation\n",
    "rmse = np.sqrt(MSE(y_train, pred))\n",
    "print(\"RMSE : % f\" %(rmse))\n",
    "\n",
    "score = r2_score(y_train,pred)\n",
    "score"
   ]
  },
  {
   "cell_type": "code",
   "execution_count": 665,
   "metadata": {},
   "outputs": [
    {
     "name": "stdout",
     "output_type": "stream",
     "text": [
      "RMSE :  0.062989\n"
     ]
    },
    {
     "data": {
      "text/plain": [
       "0.9005022717140942"
      ]
     },
     "execution_count": 665,
     "metadata": {},
     "output_type": "execute_result"
    }
   ],
   "source": [
    "# Predict the model\n",
    "pred = xgb_r.predict(X_test)\n",
    "  \n",
    "# RMSE Computation\n",
    "rmse = np.sqrt(MSE(y_test, pred))\n",
    "print(\"RMSE : % f\" %(rmse))\n",
    "\n",
    "score = r2_score(y_test,pred)\n",
    "score"
   ]
  },
  {
   "cell_type": "code",
   "execution_count": null,
   "metadata": {},
   "outputs": [],
   "source": []
  },
  {
   "cell_type": "code",
   "execution_count": null,
   "metadata": {},
   "outputs": [],
   "source": []
  },
  {
   "cell_type": "code",
   "execution_count": null,
   "metadata": {},
   "outputs": [],
   "source": []
  }
 ],
 "metadata": {
  "kernelspec": {
   "display_name": "Python 3",
   "language": "python",
   "name": "python3"
  },
  "language_info": {
   "codemirror_mode": {
    "name": "ipython",
    "version": 3
   },
   "file_extension": ".py",
   "mimetype": "text/x-python",
   "name": "python",
   "nbconvert_exporter": "python",
   "pygments_lexer": "ipython3",
   "version": "3.7.4"
  }
 },
 "nbformat": 4,
 "nbformat_minor": 2
}
